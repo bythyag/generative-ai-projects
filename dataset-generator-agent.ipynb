{
  "nbformat": 4,
  "nbformat_minor": 0,
  "metadata": {
    "colab": {
      "provenance": [],
      "authorship_tag": "ABX9TyPUNSQpK4lIBT12DtfKA0F2",
      "include_colab_link": true
    },
    "kernelspec": {
      "name": "python3",
      "display_name": "Python 3"
    },
    "language_info": {
      "name": "python"
    }
  },
  "cells": [
    {
      "cell_type": "markdown",
      "metadata": {
        "id": "view-in-github",
        "colab_type": "text"
      },
      "source": [
        "<a href=\"https://colab.research.google.com/github/bythyag/generative-ai-projects/blob/main/dataset-generator-agent.ipynb\" target=\"_parent\"><img src=\"https://colab.research.google.com/assets/colab-badge.svg\" alt=\"Open In Colab\"/></a>"
      ]
    },
    {
      "cell_type": "code",
      "source": [
        "from google.colab import userdata\n",
        "api_key = userdata.get('OPENAI_API_KEY')"
      ],
      "metadata": {
        "id": "tHQx9695CbHW"
      },
      "execution_count": 3,
      "outputs": []
    },
    {
      "cell_type": "code",
      "execution_count": 8,
      "metadata": {
        "colab": {
          "base_uri": "https://localhost:8080/"
        },
        "id": "TQcLdc2gB1f5",
        "outputId": "5d23ac47-80c1-4286-face-114acd7ad2f4"
      },
      "outputs": [
        {
          "output_type": "stream",
          "name": "stdout",
          "text": [
            "Here’s the extracted Sanskrit text in JSON format:\n",
            "\n",
            "```json\n",
            "{\n",
            "    \"sanskrit_text\": \"अर्जुन उवाच | कथं भीष्ममहं सङ्ख्ये द्रोणं च मधुसूदन | इषुभि: प्रतियोत्स्यामि पूजार्हावरिसूदन || 4||\",\n",
            "    \"translation\": \"arjuna uvācha kathaṁ bhīṣhmam ahaṁ sankhye droṇaṁ cha madhusūdana iṣhubhiḥ pratiyotsyāmi pūjārhāvari-sūdana\"\n",
            "}\n",
            "```\n"
          ]
        }
      ],
      "source": [
        "from openai import OpenAI\n",
        "\n",
        "client = OpenAI(api_key=api_key)\n",
        "\n",
        "response = client.responses.create(\n",
        "    model=\"gpt-4o-mini\",\n",
        "    input=prompt\n",
        ")\n",
        "\n",
        "print(response.output_text)"
      ]
    },
    {
      "cell_type": "code",
      "source": [
        "prompt = \"\"\"\n",
        "extract sanskrit text from the text in json format:\n",
        "{\n",
        "sanskrit text: sdsds,\n",
        "translation: sdsds\n",
        "}\n",
        "अर्जुन उवाच |\n",
        "कथं भीष्ममहं सङ्ख्ये द्रोणं च मधुसूदन |\n",
        "इषुभि: प्रतियोत्स्यामि पूजार्हावरिसूदन || 4||\n",
        "\n",
        "arjuna uvācha\n",
        "kathaṁ bhīṣhmam ahaṁ sankhye droṇaṁ cha madhusūdana\n",
        "iṣhubhiḥ pratiyotsyāmi pūjārhāvari-sūdana\n",
        "\"\"\""
      ],
      "metadata": {
        "id": "MEXjLIeOCOP6"
      },
      "execution_count": 7,
      "outputs": []
    }
  ]
}